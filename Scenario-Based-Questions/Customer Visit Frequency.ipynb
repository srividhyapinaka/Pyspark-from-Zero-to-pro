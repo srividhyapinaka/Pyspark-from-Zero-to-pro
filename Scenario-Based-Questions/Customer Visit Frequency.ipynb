{
 "cells": [
  {
   "cell_type": "markdown",
   "metadata": {
    "application/vnd.databricks.v1+cell": {
     "cellMetadata": {},
     "inputWidgets": {},
     "nuid": "87d9fe1f-6df7-4568-beb9-ae354775e65e",
     "showTitle": false,
     "tableResultSettingsMap": {},
     "title": ""
    }
   },
   "source": [
    "### You have a customer visit dataset with columns customer_id, visit_date. Write a query to find the total number of visits for each customer and the average number of visits per customer."
   ]
  },
  {
   "cell_type": "code",
   "execution_count": 0,
   "metadata": {
    "application/vnd.databricks.v1+cell": {
     "cellMetadata": {
      "byteLimit": 2048000,
      "rowLimit": 10000
     },
     "inputWidgets": {},
     "nuid": "1703c5d9-94af-420d-95a0-0d0b37b8ba0c",
     "showTitle": false,
     "tableResultSettingsMap": {},
     "title": ""
    }
   },
   "outputs": [
    {
     "output_type": "stream",
     "name": "stdout",
     "output_type": "stream",
     "text": [
      "+-----------+----------+\n|customer_id|visit_date|\n+-----------+----------+\n|          1|2024-01-01|\n|          1|2024-01-05|\n|          2|2024-01-02|\n|          3|2024-01-03|\n|          1|2024-01-07|\n|          2|2024-01-06|\n|          3|2024-01-10|\n|          3|2024-01-15|\n+-----------+----------+\n\n"
     ]
    }
   ],
   "source": [
    "from pyspark.sql import SparkSession\n",
    "from pyspark.sql.functions import count, avg\n",
    "\n",
    "# Sample data\n",
    "data = [\n",
    "    (1, \"2024-01-01\"),\n",
    "    (1, \"2024-01-05\"),\n",
    "    (2, \"2024-01-02\"),\n",
    "    (3, \"2024-01-03\"),\n",
    "    (1, \"2024-01-07\"),\n",
    "    (2, \"2024-01-06\"),\n",
    "    (3, \"2024-01-10\"),\n",
    "    (3, \"2024-01-15\")\n",
    "]\n",
    "\n",
    "# Define schema\n",
    "columns = [\"customer_id\", \"visit_date\"]\n",
    "\n",
    "# Create DataFrame\n",
    "df = spark.createDataFrame(data, columns)\n",
    "\n",
    "# Show the sample DataFrame\n",
    "df.show()\n"
   ]
  },
  {
   "cell_type": "code",
   "execution_count": 0,
   "metadata": {
    "application/vnd.databricks.v1+cell": {
     "cellMetadata": {
      "byteLimit": 2048000,
      "rowLimit": 10000
     },
     "inputWidgets": {},
     "nuid": "d6f90bca-bd8f-4b33-91b5-5b5c31bf78d6",
     "showTitle": false,
     "tableResultSettingsMap": {},
     "title": ""
    }
   },
   "outputs": [
    {
     "output_type": "stream",
     "name": "stdout",
     "output_type": "stream",
     "text": [
      "+-----------+------------+\n|customer_id|total_visits|\n+-----------+------------+\n|          1|           3|\n|          2|           2|\n|          3|           3|\n+-----------+------------+\n\n"
     ]
    }
   ],
   "source": [
    "from pyspark.sql.functions import col\n",
    "\n",
    "# Count visits per customer\n",
    "visits_per_customer = df.groupBy(\"customer_id\").agg(\n",
    "    count(\"visit_date\").alias(\"total_visits\")\n",
    ")\n",
    "\n",
    "visits_per_customer.show()\n"
   ]
  },
  {
   "cell_type": "code",
   "execution_count": 0,
   "metadata": {
    "application/vnd.databricks.v1+cell": {
     "cellMetadata": {
      "byteLimit": 2048000,
      "rowLimit": 10000
     },
     "inputWidgets": {},
     "nuid": "be2add7e-26c7-4f3f-87ff-c9573d3bf346",
     "showTitle": false,
     "tableResultSettingsMap": {},
     "title": ""
    }
   },
   "outputs": [
    {
     "output_type": "stream",
     "name": "stdout",
     "output_type": "stream",
     "text": [
      "+-----------+-----------------------+\n|customer_id|avg_visits_per_customer|\n+-----------+-----------------------+\n|          1|                    3.0|\n|          2|                    2.0|\n|          3|                    3.0|\n+-----------+-----------------------+\n\n"
     ]
    }
   ],
   "source": [
    "# Calculate average number of visits across all customers\n",
    "avg_visits = visits_per_customer.groupBy(\"customer_id\").agg(\n",
    "    avg(\"total_visits\").alias(\"avg_visits_per_customer\")\n",
    ")\n",
    "\n",
    "avg_visits.show()\n"
   ]
  }
 ],
 "metadata": {
  "application/vnd.databricks.v1+notebook": {
   "computePreferences": null,
   "dashboards": [],
   "environmentMetadata": {
    "base_environment": "",
    "environment_version": "1"
   },
   "inputWidgetPreferences": null,
   "language": "python",
   "notebookMetadata": {
    "pythonIndentUnit": 4
   },
   "notebookName": "Customer Visit Frequency",
   "widgets": {}
  }
 },
 "nbformat": 4,
 "nbformat_minor": 0
}