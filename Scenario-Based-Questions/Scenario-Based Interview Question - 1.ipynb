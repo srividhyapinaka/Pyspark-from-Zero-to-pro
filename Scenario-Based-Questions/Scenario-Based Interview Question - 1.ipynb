{
 "cells": [
  {
   "cell_type": "markdown",
   "metadata": {
    "application/vnd.databricks.v1+cell": {
     "cellMetadata": {},
     "inputWidgets": {},
     "nuid": "335f47b7-bf30-4081-ac18-1cfb6b8a7d37",
     "showTitle": false,
     "tableResultSettingsMap": {},
     "title": ""
    }
   },
   "source": [
    "### You're given a dataset with employee details (name, department, salary). How would you find departments with more than 8 employees and their average salary?"
   ]
  },
  {
   "cell_type": "code",
   "execution_count": 0,
   "metadata": {
    "application/vnd.databricks.v1+cell": {
     "cellMetadata": {
      "byteLimit": 2048000,
      "rowLimit": 10000
     },
     "inputWidgets": {},
     "nuid": "072f102c-a978-4254-b461-95b77aa69542",
     "showTitle": false,
     "tableResultSettingsMap": {},
     "title": ""
    }
   },
   "outputs": [],
   "source": [
    "from pyspark.sql import SparkSession\n",
    "from pyspark.sql.functions import col, count, avg\n",
    "\n",
    "# Sample data (creating a dataframe)\n",
    "data = [\n",
    "    ('Alice', 'HR', 50000),\n",
    "    ('Bob', 'HR', 55000),\n",
    "    ('Charlie', 'IT', 70000),\n",
    "    ('David', 'IT', 75000),\n",
    "    ('Eve', 'IT', 80000),\n",
    "    ('Frank', 'IT', 72000),\n",
    "    ('Grace', 'IT', 69000),\n",
    "    ('Heidi', 'IT', 71000),\n",
    "    ('Ivan', 'IT', 76000),\n",
    "    ('Jack', 'IT', 78000),\n",
    "    ('Kevin', 'IT', 74000),\n",
    "    ('Linda', 'HR', 52000),\n",
    "    ('Mike', 'Finance', 65000),\n",
    "    ('Nancy', 'Finance', 67000)\n",
    "]\n",
    "\n",
    "columns = ['name', 'department', 'salary']\n",
    "\n",
    "# Creating DataFrame\n",
    "df = spark.createDataFrame(data, columns)\n",
    "\n",
    "\n"
   ]
  },
  {
   "cell_type": "code",
   "execution_count": 0,
   "metadata": {
    "application/vnd.databricks.v1+cell": {
     "cellMetadata": {
      "byteLimit": 2048000,
      "rowLimit": 10000
     },
     "inputWidgets": {},
     "nuid": "0b244454-4f6f-4f1b-b361-cc3b558e4b4d",
     "showTitle": false,
     "tableResultSettingsMap": {},
     "title": ""
    }
   },
   "outputs": [
    {
     "output_type": "display_data",
     "data": {
      "text/html": [
       "<style scoped>\n",
       "  .table-result-container {\n",
       "    max-height: 300px;\n",
       "    overflow: auto;\n",
       "  }\n",
       "  table, th, td {\n",
       "    border: 1px solid black;\n",
       "    border-collapse: collapse;\n",
       "  }\n",
       "  th, td {\n",
       "    padding: 5px;\n",
       "  }\n",
       "  th {\n",
       "    text-align: left;\n",
       "  }\n",
       "</style><div class='table-result-container'><table class='table-result'><thead style='background-color: white'><tr><th>name</th><th>department</th><th>salary</th></tr></thead><tbody><tr><td>Alice</td><td>HR</td><td>50000</td></tr><tr><td>Bob</td><td>HR</td><td>55000</td></tr><tr><td>Charlie</td><td>IT</td><td>70000</td></tr><tr><td>David</td><td>IT</td><td>75000</td></tr><tr><td>Eve</td><td>IT</td><td>80000</td></tr><tr><td>Frank</td><td>IT</td><td>72000</td></tr><tr><td>Grace</td><td>IT</td><td>69000</td></tr><tr><td>Heidi</td><td>IT</td><td>71000</td></tr><tr><td>Ivan</td><td>IT</td><td>76000</td></tr><tr><td>Jack</td><td>IT</td><td>78000</td></tr><tr><td>Kevin</td><td>IT</td><td>74000</td></tr><tr><td>Linda</td><td>HR</td><td>52000</td></tr><tr><td>Mike</td><td>Finance</td><td>65000</td></tr><tr><td>Nancy</td><td>Finance</td><td>67000</td></tr></tbody></table></div>"
      ]
     },
     "metadata": {
      "application/vnd.databricks.v1+output": {
       "addedWidgets": {},
       "aggData": [],
       "aggError": "",
       "aggOverflow": false,
       "aggSchema": [],
       "aggSeriesLimitReached": false,
       "aggType": "",
       "arguments": {},
       "columnCustomDisplayInfos": {},
       "data": [
        [
         "Alice",
         "HR",
         50000
        ],
        [
         "Bob",
         "HR",
         55000
        ],
        [
         "Charlie",
         "IT",
         70000
        ],
        [
         "David",
         "IT",
         75000
        ],
        [
         "Eve",
         "IT",
         80000
        ],
        [
         "Frank",
         "IT",
         72000
        ],
        [
         "Grace",
         "IT",
         69000
        ],
        [
         "Heidi",
         "IT",
         71000
        ],
        [
         "Ivan",
         "IT",
         76000
        ],
        [
         "Jack",
         "IT",
         78000
        ],
        [
         "Kevin",
         "IT",
         74000
        ],
        [
         "Linda",
         "HR",
         52000
        ],
        [
         "Mike",
         "Finance",
         65000
        ],
        [
         "Nancy",
         "Finance",
         67000
        ]
       ],
       "datasetInfos": [],
       "dbfsResultPath": null,
       "isJsonSchema": true,
       "metadata": {},
       "overflow": false,
       "plotOptions": {
        "customPlotOptions": {},
        "displayType": "table",
        "pivotAggregation": null,
        "pivotColumns": null,
        "xColumns": null,
        "yColumns": null
       },
       "removedWidgets": [],
       "schema": [
        {
         "metadata": "{}",
         "name": "name",
         "type": "\"string\""
        },
        {
         "metadata": "{}",
         "name": "department",
         "type": "\"string\""
        },
        {
         "metadata": "{}",
         "name": "salary",
         "type": "\"long\""
        }
       ],
       "type": "table"
      }
     },
     "output_type": "display_data"
    }
   ],
   "source": [
    "df.display()"
   ]
  },
  {
   "cell_type": "code",
   "execution_count": 0,
   "metadata": {
    "application/vnd.databricks.v1+cell": {
     "cellMetadata": {
      "byteLimit": 2048000,
      "rowLimit": 10000
     },
     "inputWidgets": {},
     "nuid": "fabf7281-d9a3-40a5-b50e-d573d930232b",
     "showTitle": false,
     "tableResultSettingsMap": {},
     "title": ""
    }
   },
   "outputs": [],
   "source": [
    "# Group by department and filter those with more than 8 employees\n",
    "\n",
    "result_df = df.groupBy(\"department\").agg(\n",
    "    count(\"*\").alias(\"emp_count\"),\n",
    "    avg(\"salary\").alias(\"Avg_salary\")\n",
    "    ).filter(col(\"emp_count\") > 8)"
   ]
  },
  {
   "cell_type": "code",
   "execution_count": 0,
   "metadata": {
    "application/vnd.databricks.v1+cell": {
     "cellMetadata": {
      "byteLimit": 2048000,
      "rowLimit": 10000
     },
     "inputWidgets": {},
     "nuid": "da7bc14f-6b4a-4fa3-9676-8daf150fbcca",
     "showTitle": false,
     "tableResultSettingsMap": {},
     "title": ""
    }
   },
   "outputs": [
    {
     "output_type": "stream",
     "name": "stdout",
     "output_type": "stream",
     "text": [
      "+----------+---------+-----------------+\n|department|emp_count|       Avg_salary|\n+----------+---------+-----------------+\n|        IT|        9|73888.88888888889|\n+----------+---------+-----------------+\n\n"
     ]
    },
    {
     "output_type": "display_data",
     "data": {
      "text/html": [
       "<style scoped>\n",
       "  .table-result-container {\n",
       "    max-height: 300px;\n",
       "    overflow: auto;\n",
       "  }\n",
       "  table, th, td {\n",
       "    border: 1px solid black;\n",
       "    border-collapse: collapse;\n",
       "  }\n",
       "  th, td {\n",
       "    padding: 5px;\n",
       "  }\n",
       "  th {\n",
       "    text-align: left;\n",
       "  }\n",
       "</style><div class='table-result-container'><table class='table-result'><thead style='background-color: white'><tr><th>department</th><th>emp_count</th><th>Avg_salary</th></tr></thead><tbody><tr><td>IT</td><td>9</td><td>73888.88888888889</td></tr></tbody></table></div>"
      ]
     },
     "metadata": {
      "application/vnd.databricks.v1+output": {
       "addedWidgets": {},
       "aggData": [],
       "aggError": "",
       "aggOverflow": false,
       "aggSchema": [],
       "aggSeriesLimitReached": false,
       "aggType": "",
       "arguments": {},
       "columnCustomDisplayInfos": {},
       "data": [
        [
         "IT",
         9,
         73888.88888888889
        ]
       ],
       "datasetInfos": [],
       "dbfsResultPath": null,
       "isJsonSchema": true,
       "metadata": {},
       "overflow": false,
       "plotOptions": {
        "customPlotOptions": {},
        "displayType": "table",
        "pivotAggregation": null,
        "pivotColumns": null,
        "xColumns": null,
        "yColumns": null
       },
       "removedWidgets": [],
       "schema": [
        {
         "metadata": "{}",
         "name": "department",
         "type": "\"string\""
        },
        {
         "metadata": "{}",
         "name": "emp_count",
         "type": "\"long\""
        },
        {
         "metadata": "{}",
         "name": "Avg_salary",
         "type": "\"double\""
        }
       ],
       "type": "table"
      }
     },
     "output_type": "display_data"
    }
   ],
   "source": [
    "# Show result\n",
    "\n",
    "result_df.show()\n",
    "result_df.display()"
   ]
  }
 ],
 "metadata": {
  "application/vnd.databricks.v1+notebook": {
   "computePreferences": null,
   "dashboards": [],
   "environmentMetadata": {
    "base_environment": "",
    "environment_version": "1"
   },
   "inputWidgetPreferences": null,
   "language": "python",
   "notebookMetadata": {
    "pythonIndentUnit": 4
   },
   "notebookName": "Scenario-Based Interview Question - 1",
   "widgets": {}
  }
 },
 "nbformat": 4,
 "nbformat_minor": 0
}