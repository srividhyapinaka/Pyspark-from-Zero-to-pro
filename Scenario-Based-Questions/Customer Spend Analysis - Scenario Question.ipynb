{
 "cells": [
  {
   "cell_type": "markdown",
   "metadata": {
    "application/vnd.databricks.v1+cell": {
     "cellMetadata": {},
     "inputWidgets": {},
     "nuid": "36a34567-2411-4f50-be8e-a9ecedb4092b",
     "showTitle": false,
     "tableResultSettingsMap": {},
     "title": ""
    }
   },
   "source": [
    "### You have a dataset of customer purchases with columns customer_id, purchase_date, and amount_spent. Write a query to find the total amount spent and the average amount spent per customer"
   ]
  },
  {
   "cell_type": "code",
   "execution_count": 0,
   "metadata": {
    "application/vnd.databricks.v1+cell": {
     "cellMetadata": {
      "byteLimit": 2048000,
      "rowLimit": 10000
     },
     "inputWidgets": {},
     "nuid": "d2bf25f3-fc3b-476b-8d31-4e132c58b6ed",
     "showTitle": false,
     "tableResultSettingsMap": {},
     "title": ""
    }
   },
   "outputs": [
    {
     "output_type": "stream",
     "name": "stdout",
     "output_type": "stream",
     "text": [
      "+-----------+-------------+------------+\n|customer_id|purchase_date|amount_spent|\n+-----------+-------------+------------+\n|          1|   2024-01-05|       100.0|\n|          1|   2024-02-10|       150.0|\n|          2|   2024-01-15|       200.0|\n|          2|   2024-03-12|       100.0|\n|          3|   2024-02-20|       300.0|\n|          3|   2024-03-25|       250.0|\n|          1|   2024-04-01|       200.0|\n|          2|   2024-04-15|       150.0|\n+-----------+-------------+------------+\n\n"
     ]
    }
   ],
   "source": [
    "from pyspark.sql import SparkSession\n",
    "from pyspark.sql.functions import sum as _sum, avg\n",
    "\n",
    "# Sample data\n",
    "data = [\n",
    "    (1, \"2024-01-05\", 100.0),\n",
    "    (1, \"2024-02-10\", 150.0),\n",
    "    (2, \"2024-01-15\", 200.0),\n",
    "    (2, \"2024-03-12\", 100.0),\n",
    "    (3, \"2024-02-20\", 300.0),\n",
    "    (3, \"2024-03-25\", 250.0),\n",
    "    (1, \"2024-04-01\", 200.0),\n",
    "    (2, \"2024-04-15\", 150.0)\n",
    "]\n",
    "\n",
    "# Define schema\n",
    "columns = [\"customer_id\", \"purchase_date\", \"amount_spent\"]\n",
    "\n",
    "# Create DataFrame\n",
    "df = spark.createDataFrame(data, columns)\n",
    "\n",
    "# Show the sample DataFrame\n",
    "df.show()\n"
   ]
  },
  {
   "cell_type": "code",
   "execution_count": 0,
   "metadata": {
    "application/vnd.databricks.v1+cell": {
     "cellMetadata": {
      "byteLimit": 2048000,
      "rowLimit": 10000
     },
     "inputWidgets": {},
     "nuid": "1cf5279b-add1-4be3-9779-27c02f2f009b",
     "showTitle": false,
     "tableResultSettingsMap": {},
     "title": ""
    }
   },
   "outputs": [
    {
     "output_type": "stream",
     "name": "stdout",
     "output_type": "stream",
     "text": [
      "+-----------+-----------+---------+\n|customer_id|total_spent|avg_spent|\n+-----------+-----------+---------+\n|          1|      450.0|    150.0|\n|          2|      450.0|    150.0|\n|          3|      550.0|    275.0|\n+-----------+-----------+---------+\n\n"
     ]
    }
   ],
   "source": [
    "# Aggregate total and average amount spent per customer\n",
    "agg_df = df.groupBy(\"customer_id\").agg(\n",
    "    _sum(\"amount_spent\").alias(\"total_spent\"),\n",
    "    avg(\"amount_spent\").alias(\"avg_spent\")\n",
    ")\n",
    "\n",
    "# Show the result\n",
    "agg_df.show()\n"
   ]
  }
 ],
 "metadata": {
  "application/vnd.databricks.v1+notebook": {
   "computePreferences": null,
   "dashboards": [],
   "environmentMetadata": {
    "base_environment": "",
    "environment_version": "1"
   },
   "inputWidgetPreferences": null,
   "language": "python",
   "notebookMetadata": {
    "pythonIndentUnit": 4
   },
   "notebookName": "Customer Spend Analysis - Scenario Question",
   "widgets": {}
  }
 },
 "nbformat": 4,
 "nbformat_minor": 0
}