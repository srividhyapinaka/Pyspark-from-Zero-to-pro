{
 "cells": [
  {
   "cell_type": "markdown",
   "metadata": {
    "application/vnd.databricks.v1+cell": {
     "cellMetadata": {},
     "inputWidgets": {},
     "nuid": "28fed951-55c9-4fd0-89a7-60ae00a9f622",
     "showTitle": false,
     "tableResultSettingsMap": {},
     "title": ""
    }
   },
   "source": [
    "### You have an employee dataset with columns employee_id, leave_type, leave_duration. Write a query to find the total leave duration taken by each employee for each leave type."
   ]
  },
  {
   "cell_type": "code",
   "execution_count": 0,
   "metadata": {
    "application/vnd.databricks.v1+cell": {
     "cellMetadata": {
      "byteLimit": 2048000,
      "rowLimit": 10000
     },
     "inputWidgets": {},
     "nuid": "973ad10e-353a-4f84-942c-c7d7702255a9",
     "showTitle": false,
     "tableResultSettingsMap": {},
     "title": ""
    }
   },
   "outputs": [
    {
     "output_type": "stream",
     "name": "stdout",
     "output_type": "stream",
     "text": [
      "+-----------+------------+--------------+\n|employee_id|  leave_type|leave_duration|\n+-----------+------------+--------------+\n|          1|  Sick Leave|             2|\n|          1|Casual Leave|             1|\n|          1|  Sick Leave|             3|\n|          2|Casual Leave|             2|\n|          2|  Sick Leave|             1|\n|          3|   Maternity|            30|\n|          3|  Sick Leave|             2|\n|          1|Casual Leave|             2|\n|          2|Casual Leave|             1|\n|          3|Casual Leave|             3|\n+-----------+------------+--------------+\n\n"
     ]
    }
   ],
   "source": [
    "from pyspark.sql import SparkSession\n",
    "from pyspark.sql.functions import sum \n",
    "\n",
    "# Sample data\n",
    "data = [\n",
    "    (1, \"Sick Leave\", 2),\n",
    "    (1, \"Casual Leave\", 1),\n",
    "    (1, \"Sick Leave\", 3),\n",
    "    (2, \"Casual Leave\", 2),\n",
    "    (2, \"Sick Leave\", 1),\n",
    "    (3, \"Maternity\", 30),\n",
    "    (3, \"Sick Leave\", 2),\n",
    "    (1, \"Casual Leave\", 2),\n",
    "    (2, \"Casual Leave\", 1),\n",
    "    (3, \"Casual Leave\", 3)\n",
    "]\n",
    "\n",
    "# Define schema\n",
    "columns = [\"employee_id\", \"leave_type\", \"leave_duration\"]\n",
    "\n",
    "# Create DataFrame\n",
    "df = spark.createDataFrame(data, columns)\n",
    "\n",
    "# Show the sample DataFrame\n",
    "df.show()\n"
   ]
  },
  {
   "cell_type": "code",
   "execution_count": 0,
   "metadata": {
    "application/vnd.databricks.v1+cell": {
     "cellMetadata": {
      "byteLimit": 2048000,
      "rowLimit": 10000
     },
     "inputWidgets": {},
     "nuid": "ffba203b-04c6-4233-8204-8effd20efb9a",
     "showTitle": false,
     "tableResultSettingsMap": {},
     "title": ""
    }
   },
   "outputs": [
    {
     "output_type": "stream",
     "name": "stdout",
     "output_type": "stream",
     "text": [
      "+-----------+------------+--------------------+\n|employee_id|  leave_type|total_leave_duration|\n+-----------+------------+--------------------+\n|          1|  Sick Leave|                   5|\n|          1|Casual Leave|                   3|\n|          2|Casual Leave|                   3|\n|          2|  Sick Leave|                   1|\n|          3|   Maternity|                  30|\n|          3|  Sick Leave|                   2|\n|          3|Casual Leave|                   3|\n+-----------+------------+--------------------+\n\n"
     ]
    }
   ],
   "source": [
    "# Group by employee_id and leave_type and sum the leave_duration\n",
    "leave_summary = df.groupBy(\"employee_id\", \"leave_type\").agg(\n",
    "    sum(\"leave_duration\").alias(\"total_leave_duration\")\n",
    ")\n",
    "\n",
    "# Show the result\n",
    "leave_summary.show()\n"
   ]
  }
 ],
 "metadata": {
  "application/vnd.databricks.v1+notebook": {
   "computePreferences": null,
   "dashboards": [],
   "environmentMetadata": {
    "base_environment": "",
    "environment_version": "1"
   },
   "inputWidgetPreferences": null,
   "language": "python",
   "notebookMetadata": {
    "pythonIndentUnit": 4
   },
   "notebookName": "Employee Leave Statistics",
   "widgets": {}
  }
 },
 "nbformat": 4,
 "nbformat_minor": 0
}