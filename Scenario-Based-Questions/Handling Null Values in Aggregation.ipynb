{
 "cells": [
  {
   "cell_type": "markdown",
   "metadata": {
    "application/vnd.databricks.v1+cell": {
     "cellMetadata": {},
     "inputWidgets": {},
     "nuid": "f57d21b0-13a4-4466-9ee8-8b4001508771",
     "showTitle": false,
     "tableResultSettingsMap": {},
     "title": ""
    }
   },
   "source": [
    "### You have a dataset of product reviews with columns product_id, rating, and review_date. Some ratings are null. Write a query to calculate the average rating for each product, ignoring null values."
   ]
  },
  {
   "cell_type": "code",
   "execution_count": 0,
   "metadata": {
    "application/vnd.databricks.v1+cell": {
     "cellMetadata": {
      "byteLimit": 2048000,
      "rowLimit": 10000
     },
     "inputWidgets": {},
     "nuid": "fc243e77-2e81-4fb8-81a3-2bb5e517b8a8",
     "showTitle": false,
     "tableResultSettingsMap": {},
     "title": ""
    }
   },
   "outputs": [
    {
     "output_type": "stream",
     "name": "stdout",
     "output_type": "stream",
     "text": [
      "+----------+------+-----------+\n|product_id|rating|review_date|\n+----------+------+-----------+\n|       101|   4.0| 2024-01-10|\n|       101|  null| 2024-01-12|\n|       101|   5.0| 2024-01-15|\n|       102|   3.0| 2024-02-01|\n|       102|   2.0| 2024-02-05|\n|       102|  null| 2024-02-07|\n|       103|  null| 2024-03-01|\n|       103|  null| 2024-03-10|\n|       104|   5.0| 2024-04-01|\n|       104|   4.0| 2024-04-03|\n+----------+------+-----------+\n\n"
     ]
    }
   ],
   "source": [
    "from pyspark.sql import SparkSession\n",
    "from pyspark.sql.functions import avg\n",
    "\n",
    "# Sample data\n",
    "data = [\n",
    "    (101, 4.0, \"2024-01-10\"),\n",
    "    (101, None, \"2024-01-12\"),\n",
    "    (101, 5.0, \"2024-01-15\"),\n",
    "    (102, 3.0, \"2024-02-01\"),\n",
    "    (102, 2.0, \"2024-02-05\"),\n",
    "    (102, None, \"2024-02-07\"),\n",
    "    (103, None, \"2024-03-01\"),\n",
    "    (103, None, \"2024-03-10\"),\n",
    "    (104, 5.0, \"2024-04-01\"),\n",
    "    (104, 4.0, \"2024-04-03\"),\n",
    "]\n",
    "\n",
    "# Define schema\n",
    "columns = [\"product_id\", \"rating\", \"review_date\"]\n",
    "\n",
    "# Create DataFrame\n",
    "df = spark.createDataFrame(data, columns)\n",
    "\n",
    "# Show the sample DataFrame\n",
    "df.show()\n"
   ]
  },
  {
   "cell_type": "code",
   "execution_count": 0,
   "metadata": {
    "application/vnd.databricks.v1+cell": {
     "cellMetadata": {
      "byteLimit": 2048000,
      "rowLimit": 10000
     },
     "inputWidgets": {},
     "nuid": "d2dc3ccc-d202-4e91-b491-de776ebf61ae",
     "showTitle": false,
     "tableResultSettingsMap": {},
     "title": ""
    }
   },
   "outputs": [
    {
     "output_type": "stream",
     "name": "stdout",
     "output_type": "stream",
     "text": [
      "+----------+----------+\n|product_id|avg_rating|\n+----------+----------+\n|       101|       4.5|\n|       102|       2.5|\n|       104|       4.5|\n+----------+----------+\n\n"
     ]
    }
   ],
   "source": [
    "# Compute average rating per product, ignoring nulls\n",
    "avg_rating = df.groupBy(\"product_id\") \\\n",
    "  .agg(avg(\"rating\").alias(\"avg_rating\")) \\\n",
    "  .na.drop()   # Removes rows with null average ratings\n",
    "\n",
    "# Show the result\n",
    "avg_rating.show()\n"
   ]
  }
 ],
 "metadata": {
  "application/vnd.databricks.v1+notebook": {
   "computePreferences": null,
   "dashboards": [],
   "environmentMetadata": {
    "base_environment": "",
    "environment_version": "1"
   },
   "inputWidgetPreferences": null,
   "language": "python",
   "notebookMetadata": {
    "pythonIndentUnit": 4
   },
   "notebookName": "Handling Null Values in Aggregation",
   "widgets": {}
  }
 },
 "nbformat": 4,
 "nbformat_minor": 0
}