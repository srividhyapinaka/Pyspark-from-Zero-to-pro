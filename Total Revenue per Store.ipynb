{
 "cells": [
  {
   "cell_type": "markdown",
   "metadata": {
    "application/vnd.databricks.v1+cell": {
     "cellMetadata": {},
     "inputWidgets": {},
     "nuid": "16855011-8d6c-4df8-9ba0-4a3e15015198",
     "showTitle": false,
     "tableResultSettingsMap": {},
     "title": ""
    }
   },
   "source": [
    "### You have a dataset of sales transactions with columns store_id, product_id, quantity_sold, and price_per_unit. Write a query to calculate the total revenue (quantity sold * price per unit) per store."
   ]
  },
  {
   "cell_type": "code",
   "execution_count": 0,
   "metadata": {
    "application/vnd.databricks.v1+cell": {
     "cellMetadata": {
      "byteLimit": 2048000,
      "rowLimit": 10000
     },
     "inputWidgets": {},
     "nuid": "bd9228c6-f884-4d8d-a24e-7487753524b2",
     "showTitle": false,
     "tableResultSettingsMap": {},
     "title": ""
    }
   },
   "outputs": [
    {
     "output_type": "stream",
     "name": "stdout",
     "output_type": "stream",
     "text": [
      "+--------+----------+-------------+--------------+\n|store_id|product_id|quantity_sold|price_per_unit|\n+--------+----------+-------------+--------------+\n|       1|       101|           30|          25.0|\n|       1|       102|           20|          50.0|\n|       2|       101|           40|          25.0|\n|       2|       103|           10|          75.0|\n|       3|       102|           15|          50.0|\n|       3|       104|           50|          60.0|\n|       1|       103|           10|          75.0|\n|       2|       104|           20|          60.0|\n|       3|       101|           25|          25.0|\n|       3|       102|           30|          50.0|\n+--------+----------+-------------+--------------+\n\n"
     ]
    }
   ],
   "source": [
    "from pyspark.sql import SparkSession\n",
    "from pyspark.sql.functions import col, sum as _sum\n",
    "\n",
    "\n",
    "\n",
    "# Sample data\n",
    "data = [\n",
    "    (1, 101, 30, 25.00),\n",
    "    (1, 102, 20, 50.00),\n",
    "    (2, 101, 40, 25.00),\n",
    "    (2, 103, 10, 75.00),\n",
    "    (3, 102, 15, 50.00),\n",
    "    (3, 104, 50, 60.00),\n",
    "    (1, 103, 10, 75.00),\n",
    "    (2, 104, 20, 60.00),\n",
    "    (3, 101, 25, 25.00),\n",
    "    (3, 102, 30, 50.00)\n",
    "]\n",
    "\n",
    "# Define schema\n",
    "columns = [\"store_id\", \"product_id\", \"quantity_sold\", \"price_per_unit\"]\n",
    "\n",
    "# Create DataFrame\n",
    "df = spark.createDataFrame(data, columns)\n",
    "\n",
    "# Show the DataFrame\n",
    "df.show()\n"
   ]
  },
  {
   "cell_type": "code",
   "execution_count": 0,
   "metadata": {
    "application/vnd.databricks.v1+cell": {
     "cellMetadata": {},
     "inputWidgets": {},
     "nuid": "65590f22-61f4-426b-b1f6-95760999f2a0",
     "showTitle": false,
     "tableResultSettingsMap": {},
     "title": ""
    }
   },
   "outputs": [],
   "source": [
    "# Calculate total revenue per store\n",
    "df_with_revenue = df.withColumn(\"revenue\", col(\"quantity_sold\") * col(\"price_per_unit\"))\n",
    "\n",
    "# Group by store_id and sum the revenue\n",
    "total_revenue_per_store = df_with_revenue.groupBy(\"store_id\").agg(_sum(\"revenue\").alias(\"total_revenue\"))\n",
    "\n",
    "# Show the result\n",
    "total_revenue_per_store.show()\n"
   ]
  }
 ],
 "metadata": {
  "application/vnd.databricks.v1+notebook": {
   "computePreferences": null,
   "dashboards": [],
   "environmentMetadata": {
    "base_environment": "",
    "environment_version": "1"
   },
   "inputWidgetPreferences": null,
   "language": "python",
   "notebookMetadata": {
    "pythonIndentUnit": 4
   },
   "notebookName": "Total Revenue per Store",
   "widgets": {}
  }
 },
 "nbformat": 4,
 "nbformat_minor": 0
}